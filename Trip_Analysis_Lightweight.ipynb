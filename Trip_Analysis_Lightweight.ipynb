{
 "cells": [
  {
   "cell_type": "code",
   "execution_count": null,
   "id": "462513a9",
   "metadata": {},
   "outputs": [],
   "source": [
    "import pandas as pd\n",
    "import numpy as np\n",
    "import matplotlib.pyplot as plt\n",
    "import seaborn as sns\n",
    "import time\n",
    "from multiprocessing import Pool\n",
    "from sklearn.linear_model import LinearRegression\n",
    "from sklearn.model_selection import train_test_split\n",
    "from sklearn.metrics import mean_squared_error, r2_score\n",
    "\n",
    "# File paths (as provided)\n",
    "trips_df = pd.read_csv(\"Data/datasets/trips_full_data.csv\")\n",
    "distance_df = pd.read_csv(\"Data/datasets/Trips_by_Distance.csv\")\n"
   ]
  },
  {
   "cell_type": "code",
   "execution_count": null,
   "id": "b13e9700",
   "metadata": {},
   "outputs": [],
   "source": [
    "print(\"Trips Dataset Columns:\", trips_df.columns)\n",
    "print(\"Distance Dataset Columns:\", distance_df.columns)\n",
    "display(trips_df.head())\n",
    "display(distance_df.head())\n"
   ]
  },
  {
   "cell_type": "code",
   "execution_count": null,
   "id": "3004d132",
   "metadata": {},
   "outputs": [],
   "source": [
    "trips_df['Population_Staying_Home'] = trips_df['Population'] - trips_df['Population_Not_Staying_at_Home']\n",
    "daily_home_stay = trips_df[['Date', 'Population_Staying_Home']].groupby('Date').sum()\n",
    "daily_home_stay.sort_values(by='Population_Staying_Home', ascending=False).head()\n"
   ]
  },
  {
   "cell_type": "code",
   "execution_count": null,
   "id": "b45a8cf4",
   "metadata": {},
   "outputs": [],
   "source": [
    "distance_df.columns = distance_df.columns.str.strip()\n",
    "sns.barplot(data=distance_df, x='Distance Bin', y='Number of Participants')\n",
    "plt.xticks(rotation=45)\n",
    "plt.title(\"Number of Participants by Trip Distance\")\n",
    "plt.tight_layout()\n",
    "plt.show()\n"
   ]
  },
  {
   "cell_type": "code",
   "execution_count": null,
   "id": "fd4d8a2d",
   "metadata": {},
   "outputs": [],
   "source": [
    "trips_10_25 = trips_df[(trips_df['Trip_Bin'] == '10-25') & (trips_df['People_Count'] > 10_000_000)]\n",
    "trips_50_100 = trips_df[(trips_df['Trip_Bin'] == '50-100') & (trips_df['People_Count'] > 10_000_000)]\n",
    "\n",
    "dates_10_25 = set(trips_10_25['Date'])\n",
    "dates_50_100 = set(trips_50_100['Date'])\n",
    "common_dates = dates_10_25.intersection(dates_50_100)\n",
    "\n",
    "print(\"Dates >10M (10–25 trips):\", sorted(dates_10_25))\n",
    "print(\"Dates >10M (50–100 trips):\", sorted(dates_50_100))\n",
    "print(\"Common Dates:\", sorted(common_dates))\n"
   ]
  },
  {
   "cell_type": "code",
   "execution_count": null,
   "id": "d240ac14",
   "metadata": {},
   "outputs": [],
   "source": [
    "large_data = np.random.rand(1_000_000) * 100\n",
    "\n",
    "def heavy_function(x):\n",
    "    return x ** 0.5\n",
    "\n",
    "# Sequential\n",
    "start_time = time.time()\n",
    "sequential_result = [heavy_function(x) for x in large_data]\n",
    "sequential_time = time.time() - start_time\n",
    "print(f\"Sequential: {sequential_time:.2f} sec\")\n",
    "\n",
    "# Parallel (8 cores max)\n",
    "def run_parallel(data, num_processes):\n",
    "    with Pool(processes=num_processes) as pool:\n",
    "        start = time.time()\n",
    "        result = pool.map(heavy_function, data)\n",
    "        duration = time.time() - start\n",
    "    return result, duration\n",
    "\n",
    "_, parallel_time_8 = run_parallel(large_data, 8)\n",
    "print(f\"Parallel (8 cores): {parallel_time_8:.2f} sec\")\n",
    "\n",
    "# NumPy (baseline)\n",
    "start_np = time.time()\n",
    "np_result = np.sqrt(large_data)\n",
    "np_time = time.time() - start_np\n",
    "print(f\"NumPy vectorized: {np_time:.2f} sec\")\n"
   ]
  },
  {
   "cell_type": "code",
   "execution_count": null,
   "id": "9ef93147",
   "metadata": {},
   "outputs": [],
   "source": [
    "plt.figure(figsize=(6, 4))\n",
    "plt.bar(['Sequential', 'Parallel (8)', 'NumPy'],\n",
    "        [sequential_time, parallel_time_8, np_time],\n",
    "        color=['red', 'green', 'blue'])\n",
    "plt.ylabel('Processing Time (seconds)')\n",
    "plt.title('Sequential vs. Parallel vs. NumPy')\n",
    "plt.tight_layout()\n",
    "plt.show()\n"
   ]
  },
  {
   "cell_type": "code",
   "execution_count": null,
   "id": "80895242",
   "metadata": {},
   "outputs": [],
   "source": [
    "def average_bin(bin_str):\n",
    "    parts = bin_str.replace('+', '').split('-')\n",
    "    if len(parts) == 2:\n",
    "        return (float(parts[0]) + float(parts[1])) / 2\n",
    "    else:\n",
    "        return float(parts[0])\n",
    "\n",
    "distance_df['AvgDistance'] = distance_df['Distance Bin'].apply(average_bin)\n",
    "distance_df.rename(columns={'Number of Participants': 'Participants'}, inplace=True)\n",
    "\n",
    "X = distance_df[['AvgDistance']]\n",
    "y = distance_df['Participants']\n",
    "\n",
    "X_train, X_test, y_train, y_test = train_test_split(X, y, test_size=0.2, random_state=42)\n",
    "\n",
    "model = LinearRegression()\n",
    "model.fit(X_train, y_train)\n",
    "y_pred = model.predict(X_test)\n",
    "\n",
    "print(\"R² Score:\", r2_score(y_test, y_pred))\n",
    "print(\"RMSE:\", mean_squared_error(y_test, y_pred, squared=False))\n"
   ]
  },
  {
   "cell_type": "code",
   "execution_count": null,
   "id": "c08cb955",
   "metadata": {},
   "outputs": [],
   "source": [
    "plt.figure(figsize=(7, 5))\n",
    "plt.scatter(X, y, color='blue', label='Actual')\n",
    "plt.plot(X, model.predict(X), color='red', linewidth=2, label='Model')\n",
    "plt.xlabel(\"Average Trip Distance\")\n",
    "plt.ylabel(\"Participants\")\n",
    "plt.title(\"Model: Participants vs. Trip Distance\")\n",
    "plt.legend()\n",
    "plt.grid(True)\n",
    "plt.tight_layout()\n",
    "plt.show()\n"
   ]
  }
 ],
 "metadata": {},
 "nbformat": 4,
 "nbformat_minor": 5
}
